{
  "nbformat": 4,
  "nbformat_minor": 0,
  "metadata": {
    "colab": {
      "name": "Practice_4.ipynb",
      "provenance": [],
      "collapsed_sections": [
        "193Kzrii8JCG",
        "czcyeM09TwN7"
      ]
    },
    "kernelspec": {
      "name": "python3",
      "display_name": "Python 3"
    }
  },
  "cells": [
    {
      "cell_type": "markdown",
      "metadata": {
        "id": "FMqboNwO4rVs"
      },
      "source": [
        "# **Курс \"Програмування на мові Python\"**\n",
        "\n",
        "##### Викладачі:\n",
        "##### Борисенко Павло Борисович\n",
        "##### Щьоголєв Максим Олегович\n"
      ]
    },
    {
      "cell_type": "markdown",
      "metadata": {
        "id": "A2T6MigL5Z06"
      },
      "source": [
        "## **Практичне зайняття №4**\n",
        "### Тема: \"Цикли. Робота зі списками\""
      ]
    },
    {
      "cell_type": "markdown",
      "metadata": {
        "id": "193Kzrii8JCG"
      },
      "source": [
        "### **1. Цикли**"
      ]
    },
    {
      "cell_type": "markdown",
      "metadata": {
        "id": "POV5boU88PaK"
      },
      "source": [
        "**Цикли** використовуються для багаторазового виконання набору інструкцій.\n",
        "\n",
        "У мові програмування Python цикли бувають двох типів: цикли while та цикли for."
      ]
    },
    {
      "cell_type": "markdown",
      "metadata": {
        "id": "yfQoYgT4LTa7"
      },
      "source": [
        "**Цикл while** використовується для повторення виконання однієї та більше інструкцій, поки умова повертає значення True.\n",
        "\n",
        "У мові програмування Python цикл while має форму:\n",
        "\n",
        "```\n",
        "while <умова циклу, що повертає True>:\n",
        "    інструкції\n",
        "```\n",
        "\n",
        "Зверніть увагу на те, що перевірка виконання умови циклу відбувається *перед* кожною ітерацією, включаючи першу ітерацію. Тобто якщо умова не виконується на першій ітерації циклу, блок інструкцій не буде виконаний жодного разу.\n",
        "\n",
        "Приклад використання циклу while:"
      ]
    },
    {
      "cell_type": "code",
      "metadata": {
        "id": "IkkpdkIMMKye"
      },
      "source": [
        "count = 0\n",
        "print('Starting')\n",
        "while count < 10:\n",
        "    print(count, ' ', end='') # part of the while loop\n",
        "    count += 1 # also part of the while loop\n",
        "print() # not part of the while loop\n",
        "print('Done')"
      ],
      "execution_count": null,
      "outputs": []
    },
    {
      "cell_type": "markdown",
      "metadata": {
        "id": "cCaQi2eRR8oE"
      },
      "source": [
        "Зверніть увагу на те, що змінна count ініціалізується перед циклом. Це особливість циклу while, яка зумовлена необхідністю використовувати цю змінну вже на першій ітерації циклу."
      ]
    },
    {
      "cell_type": "markdown",
      "metadata": {
        "id": "rKA_u7ZBS5U8"
      },
      "source": [
        "**Цикл for** використовується в тих випадках, коли ми точно знаємо, скільки разів хочемо виконати певні інструкції. Хоча цикл while також може бути використаний для таких ситуацій, набагато легше це робиться за допомогою циклу for.\n",
        "\n",
        "У мові програмування Python цикл for має вигляд:\n",
        "\n",
        "```\n",
        "# for <назва змінної> in range(...):\n",
        "    інструкції\n",
        "```\n",
        "\n",
        "Функція range (з англ. - діапазон) генерує значення в заданому діапазоні, які використовуються в циклі for.\n",
        "\n",
        "У Python цикли дуже гнучкі і можуть перебирати значення не тільки в діапазоні цілих чисел, але і в наборі значень, що містяться в певних структурах даних, таких як список цілих чисел або список значень рядкового типу.\n",
        "\n",
        "Приклад використання циклу for:"
      ]
    },
    {
      "cell_type": "code",
      "metadata": {
        "id": "Ssde2btD8LGU"
      },
      "source": [
        "print('Print out values in a range')\n",
        "for i in range(0, 10):\n",
        "    print(i, ' ', end='')\n",
        "print()\n",
        "print('Done')"
      ],
      "execution_count": null,
      "outputs": []
    },
    {
      "cell_type": "markdown",
      "metadata": {
        "id": "nFrc_WikZF0H"
      },
      "source": [
        "Наведений код робить те ж саме, що і код з прикладу для циклу while. Але:\n",
        "\n",
        "1. код більш стислий;\n",
        "\n",
        "2. зрозуміло, що ми працюємо зі значеннями на інтервалі від 0 до 9 (зверніть увагу, що останнє значення діапазону не використовується);\n",
        "\n",
        "3. нам не потрібно заздалегідь визначати змінну циклу."
      ]
    },
    {
      "cell_type": "markdown",
      "metadata": {
        "id": "jjpcbwVvoXi2"
      },
      "source": [
        "За замовчуванням значення змінної i збільшується на 1. Але функція range дає можливіть змінювати крок для ітератора. Розмір кроку можна ввести третім аргументом цієї функції. Наприклад:"
      ]
    },
    {
      "cell_type": "code",
      "metadata": {
        "id": "04HeC-I2pOgw"
      },
      "source": [
        "print('Print out values in a range with an increment of 2')\n",
        "for i in range(0, 10, 2):\n",
        "    print(i, ' ', end='')\n",
        "print()\n",
        "print('Done')"
      ],
      "execution_count": null,
      "outputs": []
    },
    {
      "cell_type": "markdown",
      "metadata": {
        "id": "TlRL_ZJbca3g"
      },
      "source": [
        "**Інструкція break** використовується для переривання циклу (використовується і в циклі while, і в циклі for).\n",
        "\n",
        "Зазвичай інструкція break розміщується під інструкцією if. Це дозволяє переривати цикл лише у разі виконання певної умови.\n",
        "\n",
        "Приклад використання інструкції break:"
      ]
    },
    {
      "cell_type": "code",
      "metadata": {
        "id": "2er-UNrcbmEU"
      },
      "source": [
        "num = int(input('Enter a number to check for: '))\n",
        "for i in range(0, 6):\n",
        "    if i == num:\n",
        "        break\n",
        "    print(i, ' ', end='')\n",
        "print()\n",
        "print('Done')"
      ],
      "execution_count": null,
      "outputs": []
    },
    {
      "cell_type": "markdown",
      "metadata": {
        "id": "j68uQGDBagzn"
      },
      "source": [
        "**Інструкція continue** використовується для переривання поточної ітерації циклу (також використовується і в циклі while, і в циклі for).\n",
        "\n",
        "Інструкцію continue так само прийнято розміщувати під інструкцією if.\n",
        "\n",
        "Приклад використання інструкції continue:"
      ]
    },
    {
      "cell_type": "code",
      "metadata": {
        "id": "cC4d_YOu8LL9"
      },
      "source": [
        "for i in range(0, 10):\n",
        "    if i % 2 == 1:\n",
        "        continue\n",
        "    print(i, end=' ')\n",
        "    print('This is even number')\n",
        "print('Done')"
      ],
      "execution_count": null,
      "outputs": []
    },
    {
      "cell_type": "markdown",
      "metadata": {
        "id": "RzPeclwCl2dv"
      },
      "source": [
        "У циклі for за потреби може використовуватись **частина else**. Вона активується тоді і тільки тоді, коли всі ітерації циклу виконуються без помилок та переривань.\n",
        "\n",
        "Приклад використання частини else:"
      ]
    },
    {
      "cell_type": "code",
      "metadata": {
        "id": "bXQxzy6Z8LPI"
      },
      "source": [
        "print('Only print code if all iterations completed')\n",
        "num = int(input('Enter a number to check for: '))\n",
        "for i in range(0, 6):\n",
        "    if i == num:\n",
        "        break\n",
        "    print(i, ' ', end='')\n",
        "else:\n",
        "    print()\n",
        "    print('All iterations successful')"
      ],
      "execution_count": null,
      "outputs": []
    },
    {
      "cell_type": "markdown",
      "metadata": {
        "id": "czcyeM09TwN7"
      },
      "source": [
        "### **2. Робота зі списками**"
      ]
    },
    {
      "cell_type": "markdown",
      "metadata": {
        "id": "7R-Mc0U1zz1B"
      },
      "source": [
        "**Список** - це впрорядкована змінювана колекція об'єктів довільних типів.\n",
        "\n",
        "Список створюється у квадратних дужках, що розташовані перед та після елементів, з яких складається цей список. Наприклад:"
      ]
    },
    {
      "cell_type": "code",
      "metadata": {
        "id": "tppXHBPWzz1C"
      },
      "source": [
        "list1 = ['John', 'Paul', 'George', 'Ringo']"
      ],
      "execution_count": null,
      "outputs": []
    },
    {
      "cell_type": "markdown",
      "metadata": {
        "id": "4yfJ28Hg201_"
      },
      "source": [
        "Списки індексуються, починаючи з нуля. Тому елемент 'John' списку list1 має індекс 0, елемент 'Paul' - індекс 1, елемент 'George' - індекс 2, елемент 'Ringo' - індекс 3.\n",
        "\n",
        "Списки можуть бути вкладеними. Квадратні дужки всередині інших квадратних дужок вказують на вкладений список. Наприклад:\n"
      ]
    },
    {
      "cell_type": "code",
      "metadata": {
        "id": "OiCY2Jyg30i9"
      },
      "source": [
        "list1 = [1, 43.5, 'Person', True]\n",
        "list2 = ['apple', 'orange', 31]\n",
        "root_list = ['John', list1, list2, 'Denise']\n",
        "print(root_list)"
      ],
      "execution_count": null,
      "outputs": []
    },
    {
      "cell_type": "markdown",
      "metadata": {
        "id": "sWuh8vZk42gb"
      },
      "source": [
        "Створити список можна кількома способами. \n",
        "\n",
        "**Спосіб №1.** \n",
        "\n",
        "Створення списку безпосередньо у квадратних дужках (як показано вище). Зверніть увагу, що список може бути порожнім. Наприклад:"
      ]
    },
    {
      "cell_type": "code",
      "metadata": {
        "id": "uXoEQC4k58ph"
      },
      "source": [
        "list1 = []\n",
        "print(list1)"
      ],
      "execution_count": null,
      "outputs": []
    },
    {
      "cell_type": "markdown",
      "metadata": {
        "id": "WmaF8GAy7R1k"
      },
      "source": [
        "**Спосіб №2.**\n",
        "\n",
        "Можна створити список, обробивши будь-який об'єкт, що може повертати елементи по одному (об'єкт, що ітерується), за допомогою вбудованої функції list(). Спробуємо обробити рядок 'list'."
      ]
    },
    {
      "cell_type": "code",
      "metadata": {
        "id": "diWjVFAP6T9g"
      },
      "source": [
        "new_list = list('list')\n",
        "print(new_list)"
      ],
      "execution_count": null,
      "outputs": []
    },
    {
      "cell_type": "markdown",
      "metadata": {
        "id": "vGwTIYQh7zIo"
      },
      "source": [
        "**Спосіб №3.**\n",
        "\n",
        "Ще один спосіб створення списків - використання генератора списків. Генератор списків - це спосіб побудувати новий список, застосовуючи вираз до кожного елементу послідовності. \n",
        "\n",
        "Генератор списків дуже схожий на цикл for. Наприклад:"
      ]
    },
    {
      "cell_type": "code",
      "metadata": {
        "id": "rKC6MEfY6OlO",
        "outputId": "bba06758-9286-40e9-f747-daf68180c6f1",
        "colab": {
          "base_uri": "https://localhost:8080/",
          "height": 34
        }
      },
      "source": [
        "c = [a * 3 for a in 'list']\n",
        "print(c)"
      ],
      "execution_count": 34,
      "outputs": [
        {
          "output_type": "stream",
          "text": [
            "['lll', 'iii', 'sss', 'ttt']\n"
          ],
          "name": "stdout"
        }
      ]
    },
    {
      "cell_type": "markdown",
      "metadata": {
        "id": "7KVpugFgt5fK"
      },
      "source": [
        "Ще один приклад:"
      ]
    },
    {
      "cell_type": "code",
      "metadata": {
        "id": "OwQU8pgEtWrZ",
        "outputId": "6494400f-2557-4409-f67f-6f0323bafc0b",
        "colab": {
          "base_uri": "https://localhost:8080/",
          "height": 34
        }
      },
      "source": [
        "c = [a * 3 for a in 'list' if a != 'i']\n",
        "print(c)"
      ],
      "execution_count": 35,
      "outputs": [
        {
          "output_type": "stream",
          "text": [
            "['lll', 'sss', 'ttt']\n"
          ],
          "name": "stdout"
        }
      ]
    },
    {
      "cell_type": "markdown",
      "metadata": {
        "id": "ols9Wda7vLOJ"
      },
      "source": [
        "Доступ до елементів зі списку можна отримати за допомогою індекса (у квадратних дужках). Індекс повертає об'єкт, розташований на відповідній позиції. Наприклад:"
      ]
    },
    {
      "cell_type": "code",
      "metadata": {
        "id": "jdgPI7BPvGp8"
      },
      "source": [
        "list1 = ['John', 'Paul', 'George', 'Ringo']\n",
        "print(list1[1])"
      ],
      "execution_count": null,
      "outputs": []
    },
    {
      "cell_type": "markdown",
      "metadata": {
        "id": "xV9QbvAh6ql9"
      },
      "source": [
        "Якщо список містить вкладені списки, звертатися до елементів вкладених списків можна, використовуючи два індекси: перший вказуватиме на елемент основного списку, другий - на елемент вкладеного списку. Наприклад:"
      ]
    },
    {
      "cell_type": "code",
      "metadata": {
        "id": "85TBtWb37h-x"
      },
      "source": [
        "list1 = [1, 43.5, 'Person', True]\n",
        "list2 = ['apple', 'orange', 31]\n",
        "root_list = ['John', list1, list2, 'Denise']\n",
        "print(root_list)\n",
        "print(root_list[2][1])"
      ],
      "execution_count": null,
      "outputs": []
    },
    {
      "cell_type": "markdown",
      "metadata": {
        "id": "7eK-3nQh7fo_"
      },
      "source": [
        "Індекс з від'ємним значенням вказуватиме на елемент списку, відрахований з кінця. Тобто індекс -1 поверне останній елемент списку, -2 - передостанній тощо."
      ]
    },
    {
      "cell_type": "code",
      "metadata": {
        "id": "Q8_wyZWw5tHg"
      },
      "source": [
        "list1 = ['John', 'Paul', 'George', 'Ringo']\n",
        "print(list1[-1])"
      ],
      "execution_count": null,
      "outputs": []
    },
    {
      "cell_type": "markdown",
      "metadata": {
        "id": "VecLujPj9Dza"
      },
      "source": [
        "Також можна отримати **зріз** (slice) списку. Для цього у квадратних дужках задаються початковий та кінцевий індекс, розділені двокрапкою. Якщо один з двох індексів відсутній, це означає, що зріз починається з першого елемента або закінчується останнім елементом списку. Наприклад:"
      ]
    },
    {
      "cell_type": "code",
      "metadata": {
        "id": "A0CsklCX-t8U"
      },
      "source": [
        "list1 = ['John', 'Paul', 'George', 'Ringo']\n",
        "print('list1[1]:', list1[1])\n",
        "print('list1[-1]:', list1[-1])\n",
        "print('list1[1:3]:', list1[1:3])\n",
        "print('list[:3]:', list1[:3])\n",
        "print('list[1:]:', list1[1:])"
      ],
      "execution_count": null,
      "outputs": []
    },
    {
      "cell_type": "markdown",
      "metadata": {
        "id": "hdmle7Ac_gfe"
      },
      "source": [
        "Додавання елементу в кінець списку відбувається за допомогою методу append(). Він має такий синтаксис:\n",
        "\n",
        "```\n",
        "<список>.append(<об'єкт>)\n",
        "```\n",
        "\n",
        "Приклад:"
      ]
    },
    {
      "cell_type": "code",
      "metadata": {
        "id": "jHSuTp2v9A7G"
      },
      "source": [
        "list1 = ['John', 'Paul', 'George', 'Ringo']\n",
        "list1.append('Pete')\n",
        "print(list1)"
      ],
      "execution_count": null,
      "outputs": []
    },
    {
      "cell_type": "markdown",
      "metadata": {
        "id": "rIwkPYqKAVzc"
      },
      "source": [
        "Щоб додати 2 і більше елементів в кінець списку, використовується метод extend() або оператор '+=':\n",
        "\n",
        "```\n",
        "<список>.extend([<об'єкт>, <об'єкт>])\n",
        "<список> += [<об'єкт>, <об'єкт>]\n",
        "```\n",
        "\n",
        "Приклад:"
      ]
    },
    {
      "cell_type": "code",
      "metadata": {
        "id": "A-yRegs1Avso"
      },
      "source": [
        "list1 = ['John', 'Paul', 'George', 'Ringo', 'Pete']\n",
        "print(list1)\n",
        "list1.extend(['Albert', 'Bob'])\n",
        "print(list1)\n",
        "list1 += ['Ginger', 'Sporty']\n",
        "print(list1)"
      ],
      "execution_count": null,
      "outputs": []
    },
    {
      "cell_type": "markdown",
      "metadata": {
        "id": "HUaQRHMiBNpw"
      },
      "source": [
        "Щоб додати елемент на певну позицію у списку, використовується метод insert():\n",
        "\n",
        "```\n",
        "<список>.insert([<індекс>, <об'єкт>])\n",
        "```\n",
        "\n",
        "Приклад:"
      ]
    },
    {
      "cell_type": "code",
      "metadata": {
        "id": "OWvWyqhrBrpz"
      },
      "source": [
        "a_list = ['Adele', 'Madonna', 'Cher']\n",
        "print(a_list)\n",
        "a_list.insert(1, 'Paloma')\n",
        "print(a_list)"
      ],
      "execution_count": null,
      "outputs": []
    },
    {
      "cell_type": "markdown",
      "metadata": {
        "id": "ghzP38n4Byes"
      },
      "source": [
        "Конкатенація (об'єднання) двох списків відбувається за допомогою оператора '+':"
      ]
    },
    {
      "cell_type": "code",
      "metadata": {
        "id": "4Uf-ZOiiCPNa"
      },
      "source": [
        "list1 = [3, 2, 1]\n",
        "list2 = [6, 5, 4]\n",
        "list3 = list1 + list2\n",
        "print(list3)"
      ],
      "execution_count": null,
      "outputs": []
    },
    {
      "cell_type": "markdown",
      "metadata": {
        "id": "KC8rVZnUCXa2"
      },
      "source": [
        "Щоб видалити елемент зі списку, використовується метод remove().\n",
        "\n",
        "```\n",
        "<список>.remove(<об'єкт>)\n",
        "```"
      ]
    },
    {
      "cell_type": "code",
      "metadata": {
        "id": "ch2mqrvLCyGW"
      },
      "source": [
        "another_list = ['Gary', 'Mark', 'Robbie', 'Jason', 'Howard']\n",
        "print(another_list)\n",
        "another_list.remove('Robbie')\n",
        "print(another_list)"
      ],
      "execution_count": null,
      "outputs": []
    },
    {
      "cell_type": "markdown",
      "metadata": {
        "id": "B93l2oEgDYw_"
      },
      "source": [
        "Для видалення елементу або зрізу елементів використовується ключове слово del."
      ]
    },
    {
      "cell_type": "code",
      "metadata": {
        "id": "0dtJSLyUDX9O"
      },
      "source": [
        "my_list = ['A', 'B', 'C', 'D', 'E']\n",
        "print(my_list)\n",
        "del my_list[2]\n",
        "print(my_list)"
      ],
      "execution_count": null,
      "outputs": []
    },
    {
      "cell_type": "markdown",
      "metadata": {
        "id": "-JZ5Lv4mECIM"
      },
      "source": [
        "Повний перелік методів, які можна виконувати зі списками, поданий у таблиці.\n",
        "\n",
        "Метод | Опис\n",
        "--- | ---\n",
        "append() | Додає елемент в кінець списку\n",
        "clear() | Видаляє всі елементи зі списку\n",
        "copy() | Повертає копію списку\n",
        "count() | Повертає кількість елементів з певним значенням\n",
        "extend() | Додає елементи списку (чи будь-якого об'єкта, що ітерується) в кінець поточного списку\n",
        "index() | Повертає індекс першого елементу із вказаним значенням\n",
        "insert() | Додає елемент на визначену позицію\n",
        "pop() | Видаляє елемент на визначеній позиції\n",
        "remove() | Видаляє елемент із вказаним значенням\n",
        "reverse() | Змінює порядок елементів у списку на протилежний\n",
        "sort() | Сортує список"
      ]
    },
    {
      "cell_type": "markdown",
      "metadata": {
        "id": "dy7TtoM2JZjH"
      },
      "source": [
        "Зі списками дуже зручно працювати у циклах. Розглянемо 4 приклади, в яких виводяться елементи списку list1:"
      ]
    },
    {
      "cell_type": "code",
      "metadata": {
        "id": "t-nex1l6KaEU"
      },
      "source": [
        "list1 = [1, 3, 5, 7, 9]\n",
        "\n",
        "for i in list1: \n",
        "    print(i, end=' ')"
      ],
      "execution_count": null,
      "outputs": []
    },
    {
      "cell_type": "code",
      "metadata": {
        "id": "mgc9yVR6KjSU"
      },
      "source": [
        "list1 = [1, 3, 5, 7, 9] \n",
        "length = len(list1) \n",
        "\n",
        "for i in range(length): \n",
        "    print(list1[i], end=' ') "
      ],
      "execution_count": null,
      "outputs": []
    },
    {
      "cell_type": "code",
      "metadata": {
        "id": "8T_jCnZqLHhz"
      },
      "source": [
        "list1 = [1, 3, 5, 7, 9] \n",
        "length = len(list1) \n",
        "i = 0\n",
        "\n",
        "while i < length: \n",
        "    print(list1[i], end=' ') \n",
        "    i += 1"
      ],
      "execution_count": null,
      "outputs": []
    },
    {
      "cell_type": "code",
      "metadata": {
        "id": "rOS5Tpa8Ldaa"
      },
      "source": [
        "list1 = [1, 3, 5, 7, 9] \n",
        "\n",
        "list2 = [print(i, end=' ') for i in list1]"
      ],
      "execution_count": null,
      "outputs": []
    }
  ]
}